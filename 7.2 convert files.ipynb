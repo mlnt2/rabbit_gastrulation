{
 "cells": [
  {
   "cell_type": "code",
   "execution_count": 1,
   "metadata": {},
   "outputs": [],
   "source": [
    "load(\"/rds/project/bg200/rds-bg200-hphi-gottgens/users/mlnt2/PhD_MT06/7_clusters/workspace.RData\")"
   ]
  },
  {
   "cell_type": "code",
   "execution_count": 2,
   "metadata": {},
   "outputs": [
    {
     "name": "stderr",
     "output_type": "stream",
     "text": [
      "Loading required package: Matrix\n",
      "\n",
      "\n",
      "********************************************************\n",
      "\n",
      "Note: As of version 1.0.0, cowplot does not change the\n",
      "\n",
      "  default ggplot2 theme anymore. To recover the previous\n",
      "\n",
      "  behavior, execute:\n",
      "  theme_set(theme_cowplot())\n",
      "\n",
      "********************************************************\n",
      "\n",
      "\n",
      "Loading required package: scran\n",
      "\n",
      "Loading required package: SingleCellExperiment\n",
      "\n",
      "Loading required package: SummarizedExperiment\n",
      "\n",
      "Loading required package: GenomicRanges\n",
      "\n",
      "Loading required package: stats4\n",
      "\n",
      "Loading required package: BiocGenerics\n",
      "\n",
      "Loading required package: parallel\n",
      "\n",
      "\n",
      "Attaching package: ‘BiocGenerics’\n",
      "\n",
      "\n",
      "The following objects are masked from ‘package:parallel’:\n",
      "\n",
      "    clusterApply, clusterApplyLB, clusterCall, clusterEvalQ,\n",
      "    clusterExport, clusterMap, parApply, parCapply, parLapply,\n",
      "    parLapplyLB, parRapply, parSapply, parSapplyLB\n",
      "\n",
      "\n",
      "The following object is masked from ‘package:Matrix’:\n",
      "\n",
      "    which\n",
      "\n",
      "\n",
      "The following objects are masked from ‘package:stats’:\n",
      "\n",
      "    IQR, mad, sd, var, xtabs\n",
      "\n",
      "\n",
      "The following objects are masked from ‘package:base’:\n",
      "\n",
      "    anyDuplicated, append, as.data.frame, basename, cbind, colnames,\n",
      "    dirname, do.call, duplicated, eval, evalq, Filter, Find, get, grep,\n",
      "    grepl, intersect, is.unsorted, lapply, Map, mapply, match, mget,\n",
      "    order, paste, pmax, pmax.int, pmin, pmin.int, Position, rank,\n",
      "    rbind, Reduce, rownames, sapply, setdiff, sort, table, tapply,\n",
      "    union, unique, unsplit, which, which.max, which.min\n",
      "\n",
      "\n",
      "Loading required package: S4Vectors\n",
      "\n",
      "\n",
      "Attaching package: ‘S4Vectors’\n",
      "\n",
      "\n",
      "The following object is masked from ‘package:Matrix’:\n",
      "\n",
      "    expand\n",
      "\n",
      "\n",
      "The following object is masked from ‘package:base’:\n",
      "\n",
      "    expand.grid\n",
      "\n",
      "\n",
      "Loading required package: IRanges\n",
      "\n",
      "Loading required package: GenomeInfoDb\n",
      "\n",
      "Loading required package: Biobase\n",
      "\n",
      "Welcome to Bioconductor\n",
      "\n",
      "    Vignettes contain introductory material; view with\n",
      "    'browseVignettes()'. To cite Bioconductor, see\n",
      "    'citation(\"Biobase\")', and for packages 'citation(\"pkgname\")'.\n",
      "\n",
      "\n",
      "Loading required package: DelayedArray\n",
      "\n",
      "Loading required package: matrixStats\n",
      "\n",
      "\n",
      "Attaching package: ‘matrixStats’\n",
      "\n",
      "\n",
      "The following objects are masked from ‘package:Biobase’:\n",
      "\n",
      "    anyMissing, rowMedians\n",
      "\n",
      "\n",
      "Loading required package: BiocParallel\n",
      "\n",
      "\n",
      "Attaching package: ‘DelayedArray’\n",
      "\n",
      "\n",
      "The following objects are masked from ‘package:matrixStats’:\n",
      "\n",
      "    colMaxs, colMins, colRanges, rowMaxs, rowMins, rowRanges\n",
      "\n",
      "\n",
      "The following objects are masked from ‘package:base’:\n",
      "\n",
      "    aperm, apply, rowsum\n",
      "\n",
      "\n",
      "Loading required package: scater\n",
      "\n",
      "Loading required package: ggplot2\n",
      "\n",
      "Warning message:\n",
      "“'normalizeSCE' is deprecated.\n",
      "Use 'logNormCounts' instead.\n",
      "See help(\"Deprecated\")”\n",
      "Warning message:\n",
      "“'centreSizeFactors' is deprecated.\n",
      "See help(\"Deprecated\")”\n"
     ]
    }
   ],
   "source": [
    "source(\"/rds/project/bg200/rds-bg200-hphi-gottgens/users/mlnt2/PhD_MT06/core_functions.R\")\n",
    "load_data(normalise=TRUE)\n",
    "\n",
    "library(Matrix)\n",
    "library(umap)\n",
    "library(reticulate)"
   ]
  },
  {
   "cell_type": "code",
   "execution_count": 5,
   "metadata": {},
   "outputs": [],
   "source": [
    "normMatrix<-logcounts(sce)"
   ]
  },
  {
   "cell_type": "code",
   "execution_count": null,
   "metadata": {},
   "outputs": [],
   "source": [
    "writeMM(normMatrix, file= \"/rds/project/bg200/rds-bg200-hphi-gottgens/users/mlnt2/PhD_MT06/visual/countsData_norm.mtx\")"
   ]
  },
  {
   "cell_type": "code",
   "execution_count": null,
   "metadata": {},
   "outputs": [],
   "source": [
    "nrow(normMatrix) # number of genes\n",
    "ncol(normMatrix) # number of cells in raw matrix"
   ]
  },
  {
   "cell_type": "code",
   "execution_count": null,
   "metadata": {},
   "outputs": [],
   "source": [
    "write.table(tsne$Y, file=\"/rds/project/bg200/rds-bg200-hphi-gottgens/users/mlnt2/PhD_MT06/visual/tsne.tab\",row.names=FALSE, col.names=FALSE)"
   ]
  },
  {
   "cell_type": "code",
   "execution_count": null,
   "metadata": {},
   "outputs": [],
   "source": [
    "rabbit.umap$layout"
   ]
  },
  {
   "cell_type": "code",
   "execution_count": null,
   "metadata": {},
   "outputs": [],
   "source": [
    "write.table(rabbit.umap$layout, file=\"/rds/project/bg200/rds-bg200-hphi-gottgens/users/mlnt2/PhD_MT06/visual/umap.tab\",row.names=FALSE, col.names=FALSE)"
   ]
  },
  {
   "cell_type": "code",
   "execution_count": null,
   "metadata": {},
   "outputs": [],
   "source": [
    "genes <- read.table(\"/rds/project/bg200/rds-bg200-hphi-gottgens/users/mlnt2/PhD_MT06/2_cellcalling/genes.tsv\")\n",
    "\n",
    "barcodes <- paste0('cell_', 1:ncol(normMatrix))\n",
    "\n",
    "write.table(barcodes, file=\"/rds/project/bg200/rds-bg200-hphi-gottgens/users/mlnt2/PhD_MT06/visual/cells.txt\", row.names = F, col.names = F, quote = F, sep = \"\\t\")\n",
    "write.table(genes, file=\"/rds/project/bg200/rds-bg200-hphi-gottgens/users/mlnt2/PhD_MT06/visual/genes.txt\", row.names = F, col.names = F, quote = F, sep = \"\\t\")"
   ]
  },
  {
   "cell_type": "code",
   "execution_count": 12,
   "metadata": {},
   "outputs": [
    {
     "data": {
      "text/html": [
       "146133"
      ],
      "text/latex": [
       "146133"
      ],
      "text/markdown": [
       "146133"
      ],
      "text/plain": [
       "[1] 146133"
      ]
     },
     "metadata": {},
     "output_type": "display_data"
    },
    {
     "data": {
      "text/html": [
       "50"
      ],
      "text/latex": [
       "50"
      ],
      "text/markdown": [
       "50"
      ],
      "text/plain": [
       "[1] 50"
      ]
     },
     "metadata": {},
     "output_type": "display_data"
    }
   ],
   "source": [
    "pca_sparse<-as(pca, \"sparseMatrix\")\n",
    "nrow(pca_sparse)\n",
    "ncol(pca_sparse)\n",
    "writeMM(pca_sparse, file=\"/rds/project/bg200/rds-bg200-hphi-gottgens/users/mlnt2/PhD_MT06/visual/PCAall_20200414.mtx\")"
   ]
  },
  {
   "cell_type": "code",
   "execution_count": 35,
   "metadata": {},
   "outputs": [
    {
     "data": {
      "text/html": [
       "146133"
      ],
      "text/latex": [
       "146133"
      ],
      "text/markdown": [
       "146133"
      ],
      "text/plain": [
       "[1] 146133"
      ]
     },
     "metadata": {},
     "output_type": "display_data"
    },
    {
     "data": {
      "text/html": [
       "146133"
      ],
      "text/latex": [
       "146133"
      ],
      "text/markdown": [
       "146133"
      ],
      "text/plain": [
       "[1] 146133"
      ]
     },
     "metadata": {},
     "output_type": "display_data"
    }
   ],
   "source": [
    "subset_meta<-meta[which(meta$doublet == FALSE & meta$stripped==FALSE),]\n",
    "nrow(subset_meta)\n",
    "length(subset_meta$cell)"
   ]
  },
  {
   "cell_type": "code",
   "execution_count": 18,
   "metadata": {},
   "outputs": [],
   "source": [
    "write.table(subset_meta$cell, file=\"/rds/project/bg200/rds-bg200-hphi-gottgens/users/mlnt2/PhD_MT06/visual/pcaall_cellnames_20200414.tab\" , row.names = F, col.names = F, quote = F, sep = \"\\t\")"
   ]
  },
  {
   "cell_type": "markdown",
   "metadata": {},
   "source": [
    "# Final QC Check (odds and ends)"
   ]
  },
  {
   "cell_type": "code",
   "execution_count": 16,
   "metadata": {},
   "outputs": [],
   "source": [
    "counts<-counts(sce)\n",
    "t.matrix<-t(counts)"
   ]
  },
  {
   "cell_type": "code",
   "execution_count": 17,
   "metadata": {},
   "outputs": [],
   "source": [
    "t.finalMatrix<- t.matrix[which(meta$doublet == FALSE & meta$stripped==FALSE),]"
   ]
  },
  {
   "cell_type": "code",
   "execution_count": 18,
   "metadata": {},
   "outputs": [
    {
     "data": {
      "text/html": [
       "146133"
      ],
      "text/latex": [
       "146133"
      ],
      "text/markdown": [
       "146133"
      ],
      "text/plain": [
       "[1] 146133"
      ]
     },
     "metadata": {},
     "output_type": "display_data"
    }
   ],
   "source": [
    "final_Matrix<-t(t.finalMatrix)\n",
    "ncol(final_Matrix)"
   ]
  },
  {
   "cell_type": "code",
   "execution_count": 19,
   "metadata": {},
   "outputs": [],
   "source": [
    "lib.sizes = Matrix::colSums(final_Matrix)\n",
    "\n",
    "ngenes = Matrix::colSums(final_Matrix > 0)\n"
   ]
  },
  {
   "cell_type": "code",
   "execution_count": 23,
   "metadata": {},
   "outputs": [
    {
     "data": {
      "text/plain": [
       "   Min. 1st Qu.  Median    Mean 3rd Qu.    Max. \n",
       "   3501    6923   10126   12326   14811  121907 "
      ]
     },
     "metadata": {},
     "output_type": "display_data"
    },
    {
     "data": {
      "text/plain": [
       "   Min. 1st Qu.  Median    Mean 3rd Qu.    Max. \n",
       "    905    2070    2661    2772    3315    7257 "
      ]
     },
     "metadata": {},
     "output_type": "display_data"
    },
    {
     "data": {
      "image/png": "[encoded data removed]",
      "text/plain": [
       "plot without title"
      ]
     },
     "metadata": {
      "image/png": {
       "height": 420,
       "width": 420
      }
     },
     "output_type": "display_data"
    }
   ],
   "source": [
    "library(ggplot2)\n",
    "\n",
    "\n",
    "qplot(lib.sizes, ngenes, col = ifelse(ngenes < 900, \"drop\", \"keep\")) +\n",
    "  scale_x_log10() +\n",
    "  scale_y_log10() +\n",
    "  labs(x = \"UMI count\", y = \"Number of expressed genes\") +\n",
    "  scale_color_manual(values = c(\"drop\" = \"grey50\", \"keep\" = \"black\"), name = \"\")\n",
    "\n",
    "summary(lib.sizes)\n",
    "summary(ngenes)"
   ]
  },
  {
   "cell_type": "code",
   "execution_count": 60,
   "metadata": {},
   "outputs": [
    {
     "data": {
      "text/html": [
       "3000"
      ],
      "text/latex": [
       "3000"
      ],
      "text/markdown": [
       "3000"
      ],
      "text/plain": [
       "[1] 3000"
      ]
     },
     "metadata": {},
     "output_type": "display_data"
    },
    {
     "data": {
      "text/html": [
       "12689"
      ],
      "text/latex": [
       "12689"
      ],
      "text/markdown": [
       "12689"
      ],
      "text/plain": [
       "[1] 12689"
      ]
     },
     "metadata": {},
     "output_type": "display_data"
    }
   ],
   "source": [
    "median(ngenes[subset_meta$sample==1])\n",
    "median(lib.sizes[subset_meta$sample==1])"
   ]
  }
 ],
 "metadata": {
  "kernelspec": {
   "display_name": "R",
   "language": "R",
   "name": "ir"
  },
  "language_info": {
   "codemirror_mode": "r",
   "file_extension": ".r",
   "mimetype": "text/x-r-source",
   "name": "R",
   "pygments_lexer": "r",
   "version": "3.6.1"
  }
 },
 "nbformat": 4,
 "nbformat_minor": 4
}
